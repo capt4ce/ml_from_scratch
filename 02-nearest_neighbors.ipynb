{
 "cells": [
  {
   "cell_type": "code",
   "execution_count": 1,
   "id": "66b78a93-0dec-452d-a9e5-f8ef93602f19",
   "metadata": {},
   "outputs": [
    {
     "ename": "ModuleNotFoundError",
     "evalue": "No module named 'numpy'",
     "output_type": "error",
     "traceback": [
      "\u001b[0;31m---------------------------------------------------------------------------\u001b[0m",
      "\u001b[0;31mModuleNotFoundError\u001b[0m                       Traceback (most recent call last)",
      "Cell \u001b[0;32mIn[1], line 2\u001b[0m\n\u001b[1;32m      1\u001b[0m \u001b[38;5;66;03m# _base\u001b[39;00m\n\u001b[0;32m----> 2\u001b[0m \u001b[38;5;28;01mimport\u001b[39;00m \u001b[38;5;21;01mnumpy\u001b[39;00m \u001b[38;5;28;01mas\u001b[39;00m \u001b[38;5;21;01mnp\u001b[39;00m\n\u001b[1;32m      4\u001b[0m \u001b[38;5;28;01mclass\u001b[39;00m \u001b[38;5;21;01mNearestNeighbors\u001b[39;00m:\n\u001b[1;32m      5\u001b[0m     \u001b[38;5;28;01mdef\u001b[39;00m \u001b[38;5;21m__init__\u001b[39m(\u001b[38;5;28mself\u001b[39m, n_neighbors\u001b[38;5;241m=\u001b[39m\u001b[38;5;241m5\u001b[39m, p\u001b[38;5;241m=\u001b[39m\u001b[38;5;241m2\u001b[39m):\n",
      "\u001b[0;31mModuleNotFoundError\u001b[0m: No module named 'numpy'"
     ]
    }
   ],
   "source": [
    "# _base\n",
    "import numpy as np\n",
    "\n",
    "class NearestNeighbors:\n",
    "    def __init__(self, n_neighbors=5, p=2):\n",
    "        self.n_neighbors = n_neighbors\n",
    "        self.p = p\n",
    "    \n",
    "    def fit(self, X, y):\n",
    "        self._X = np.array(X)\n",
    "        self._y = np.array(y)\n",
    "\n",
    "    def _calculate_distance(self, x, y):\n",
    "        diff_pow = np.power(np.abs(x-y), p)\n",
    "        sum_pow = np.sum(diff_pow)\n",
    "        return np.power(sum_pow, 1/self.p)\n",
    "        \n",
    "\n",
    "    def _kneighbors(self, X, return_distance = True):\n",
    "        distances = np.zeros(X.shape[0], self._X.shape[0])\n",
    "        for i in range(distances.shape[0]):\n",
    "            for j in range(distances.shape[1]):\n",
    "                distances[i][j] = self._calculate_distance(X[i], self._X[j])\n",
    "\n",
    "        # get sorted indeces\n",
    "        sorted_indeces = np.argsort(distances, axis = 1)\n",
    "\n",
    "        if return_distance:\n",
    "            sorted_distances = self._y[sorted_indeces]\n",
    "            return sorted_distances, sorted_indeces\n",
    "\n",
    "        return sorted_indeces\n",
    "    "
   ]
  },
  {
   "cell_type": "code",
   "execution_count": null,
   "id": "f64864e3-ad32-45a6-9edc-c5a7a4ecb8b6",
   "metadata": {},
   "outputs": [],
   "source": []
  }
 ],
 "metadata": {
  "kernelspec": {
   "display_name": "Python 3 (ipykernel)",
   "language": "python",
   "name": "python3"
  },
  "language_info": {
   "codemirror_mode": {
    "name": "ipython",
    "version": 3
   },
   "file_extension": ".py",
   "mimetype": "text/x-python",
   "name": "python",
   "nbconvert_exporter": "python",
   "pygments_lexer": "ipython3",
   "version": "3.12.4"
  }
 },
 "nbformat": 4,
 "nbformat_minor": 5
}
